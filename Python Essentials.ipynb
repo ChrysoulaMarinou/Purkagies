{
 "cells": [
  {
   "cell_type": "raw",
   "id": "a8fb349b",
   "metadata": {},
   "source": [
    "import pandas as pd\n",
    "import os\n",
    "pd.set_option('display.max_rows', 10)\n",
    "pd.__version__"
   ]
  },
  {
   "cell_type": "raw",
   "id": "52e6e6f4",
   "metadata": {},
   "source": [
    "def read_excel(filename):\n",
    "    try:\n",
    "        df = pd.read_excel(filename, header=1)\n",
    "    except Exception as e:\n",
    "        print(f\"cannot read {filename}. Error: {e}\")\n",
    "    return df"
   ]
  },
  {
   "cell_type": "markdown",
   "id": "40166585",
   "metadata": {},
   "source": [
    "Make a series of row in the df, int/float"
   ]
  },
  {
   "cell_type": "raw",
   "id": "4b132822",
   "metadata": {},
   "source": [
    "df.iloc[:, 15:] = df.iloc[:, 15:].astype(float)"
   ]
  },
  {
   "cell_type": "markdown",
   "id": "1855213d",
   "metadata": {},
   "source": [
    "Extracting year from a date string with regex"
   ]
  },
  {
   "cell_type": "raw",
   "id": "97fa61d8",
   "metadata": {},
   "source": [
    "df['year']= df['date'].str.extract(r'(\\d{4})')"
   ]
  },
  {
   "cell_type": "markdown",
   "id": "649db934",
   "metadata": {},
   "source": [
    "or...."
   ]
  },
  {
   "cell_type": "raw",
   "id": "04e694b0",
   "metadata": {},
   "source": [
    "ff['Year'] = pd.to_datetime(ff['Ημερ/νία Έναρξης']).dt.year"
   ]
  },
  {
   "cell_type": "markdown",
   "id": "f2e85060",
   "metadata": {},
   "source": [
    "For API requests"
   ]
  },
  {
   "cell_type": "raw",
   "id": "3cc165ab",
   "metadata": {},
   "source": [
    "import requests\n",
    "import json\n",
    "\n",
    "api_response = requests.get('https://jsonplaceholder.typicode.com/todos')\n",
    "print(api_response.status_code)\n",
    "data = api_response.text\n",
    "parse_json = json.loads(data)\n",
    "\n",
    "print(\"Todos:\", parse_json)"
   ]
  },
  {
   "cell_type": "markdown",
   "id": "36a2dede",
   "metadata": {},
   "source": [
    "# Inspection"
   ]
  },
  {
   "cell_type": "markdown",
   "id": "db071201",
   "metadata": {},
   "source": [
    "df.shape but different"
   ]
  },
  {
   "cell_type": "raw",
   "id": "958f9f7a",
   "metadata": {},
   "source": [
    "row.count= len(df1)\n",
    "row.count"
   ]
  },
  {
   "cell_type": "markdown",
   "id": "4be4f548",
   "metadata": {},
   "source": [
    "Print multiple rows of a specific column in a data frame from a specific row to another without typing each one"
   ]
  },
  {
   "cell_type": "raw",
   "id": "b5b42d5b",
   "metadata": {},
   "source": [
    "print(df.loc[1:1720,'column1'])"
   ]
  },
  {
   "cell_type": "markdown",
   "id": "e0367507",
   "metadata": {},
   "source": [
    "Find English characters"
   ]
  },
  {
   "cell_type": "code",
   "execution_count": 1,
   "id": "308d649e",
   "metadata": {},
   "outputs": [
    {
     "name": "stdout",
     "output_type": "stream",
     "text": [
      "True\n",
      "False\n"
     ]
    }
   ],
   "source": [
    "def isEnglish(s):\n",
    "  return s.isascii()\n",
    "\n",
    "print(isEnglish(\"Test\"))\n",
    "print(isEnglish(\"ΑΛΙΑΡΤΟΥ\"))\n"
   ]
  },
  {
   "cell_type": "markdown",
   "id": "8a395b46",
   "metadata": {},
   "source": [
    "give me only rows where value is 'Kelly'"
   ]
  },
  {
   "cell_type": "raw",
   "id": "4cfd653c",
   "metadata": {},
   "source": [
    "df[df.name=='Kelly']"
   ]
  },
  {
   "cell_type": "markdown",
   "id": "43e76af6",
   "metadata": {},
   "source": [
    "give me only rows where a 'Kel' is contained within string value"
   ]
  },
  {
   "cell_type": "raw",
   "id": "1d2ff378",
   "metadata": {},
   "source": [
    "df[df.column1.str.contains('Kel',na=False)]"
   ]
  },
  {
   "cell_type": "markdown",
   "id": "c59ad7b9",
   "metadata": {},
   "source": [
    "## For merge()"
   ]
  },
  {
   "cell_type": "markdown",
   "id": "fbb574aa",
   "metadata": {},
   "source": [
    "### Default"
   ]
  },
  {
   "cell_type": "raw",
   "id": "b540f6ba",
   "metadata": {},
   "source": [
    "df1=pd.merge(df1,df2, on=column1, how='left')"
   ]
  },
  {
   "cell_type": "markdown",
   "id": "1b1298fe",
   "metadata": {},
   "source": [
    "In merge(), you can specify the names of the key columns in the left and right DataFrames separately using the left_on and right_on parameters, if the columns you want to merge have different names."
   ]
  },
  {
   "cell_type": "raw",
   "id": "9b7c28da",
   "metadata": {},
   "source": [
    "merge(left_on='column1', right_on='column2')"
   ]
  },
  {
   "cell_type": "markdown",
   "id": "14ce0158",
   "metadata": {},
   "source": [
    "When merging two datasets and sticking the right to the left:"
   ]
  },
  {
   "cell_type": "raw",
   "id": "c9c69ed1",
   "metadata": {},
   "source": [
    " how='left'"
   ]
  },
  {
   "cell_type": "markdown",
   "id": "d5b26462",
   "metadata": {},
   "source": [
    "When merging two datasets and sticking the left to the right:"
   ]
  },
  {
   "cell_type": "raw",
   "id": "e1c3715b",
   "metadata": {},
   "source": [
    "how='right'"
   ]
  },
  {
   "cell_type": "markdown",
   "id": "57665f83",
   "metadata": {},
   "source": [
    "When merging two datasets based on their common inner values"
   ]
  },
  {
   "cell_type": "raw",
   "id": "9d1e9cfe",
   "metadata": {},
   "source": [
    "how='inner'"
   ]
  },
  {
   "cell_type": "markdown",
   "id": "535f0967",
   "metadata": {},
   "source": [
    "For keeping all the rows when merging a df and there are some that don't merge correctly"
   ]
  },
  {
   "cell_type": "raw",
   "id": "3eaa8ecd",
   "metadata": {},
   "source": [
    "how='outer'"
   ]
  },
  {
   "cell_type": "markdown",
   "id": "a05b42d9",
   "metadata": {},
   "source": [
    "# Cleaning "
   ]
  },
  {
   "cell_type": "markdown",
   "id": "a70118cc",
   "metadata": {},
   "source": [
    "For cleaning names in a df"
   ]
  },
  {
   "cell_type": "raw",
   "id": "8b2456da",
   "metadata": {},
   "source": [
    "def strip_rows(data):\n",
    "    return data.replace(r'(ΔΗΜΟΣ?\\s+)','', regex=True)\\\n",
    "                .replace(r'( - )','-', regex=True)\\\n",
    "                .replace(r'(\\s{2,})',' ', regex=True)\\\n",
    "                .replace(r'(^\\s*)','', regex=True)\\\n",
    "                .replace(r'(^A)','Α', regex=True)"
   ]
  },
  {
   "cell_type": "markdown",
   "id": "d593ff90",
   "metadata": {},
   "source": [
    "For getting rid of wrong spacing in names"
   ]
  },
  {
   "cell_type": "raw",
   "id": "2b52fbbf",
   "metadata": {},
   "source": [
    "skipinitialspace = True"
   ]
  },
  {
   "cell_type": "markdown",
   "id": "59947301",
   "metadata": {},
   "source": [
    "To get rid of the rows with only nan values"
   ]
  },
  {
   "cell_type": "raw",
   "id": "5175e926",
   "metadata": {},
   "source": [
    "na_filter=False"
   ]
  },
  {
   "cell_type": "raw",
   "id": "87399de2",
   "metadata": {},
   "source": [
    "master[master['municipality'].str.contains('ΦΙΛΑΔΕΛΦΕΙΑΣ', na=False)]"
   ]
  },
  {
   "cell_type": "markdown",
   "id": "a7661e7a",
   "metadata": {},
   "source": [
    "Keeping the year from the date"
   ]
  },
  {
   "cell_type": "raw",
   "id": "4cabef36",
   "metadata": {},
   "source": [
    "oct_df['date'] = pd.to_datetime(oct_df['DATA'])"
   ]
  },
  {
   "cell_type": "raw",
   "id": "e5c82808",
   "metadata": {},
   "source": [
    "df['Date'] = pd.to_datetime(df['Date'], format='%d/%m/%Y', dayfirst=True)"
   ]
  },
  {
   "cell_type": "markdown",
   "id": "4f232041",
   "metadata": {},
   "source": [
    "Don't take into account possible missing values when searching"
   ]
  },
  {
   "cell_type": "raw",
   "id": "1f7344d0",
   "metadata": {},
   "source": [
    "na=False"
   ]
  },
  {
   "cell_type": "raw",
   "id": "6f43e428",
   "metadata": {},
   "source": [
    "[start:end:steps] -> [0::5]"
   ]
  },
  {
   "cell_type": "code",
   "execution_count": null,
   "id": "02ef8631",
   "metadata": {},
   "outputs": [],
   "source": []
  }
 ],
 "metadata": {
  "kernelspec": {
   "display_name": "Python 3 (ipykernel)",
   "language": "python",
   "name": "python3"
  },
  "language_info": {
   "codemirror_mode": {
    "name": "ipython",
    "version": 3
   },
   "file_extension": ".py",
   "mimetype": "text/x-python",
   "name": "python",
   "nbconvert_exporter": "python",
   "pygments_lexer": "ipython3",
   "version": "3.11.2"
  }
 },
 "nbformat": 4,
 "nbformat_minor": 5
}
