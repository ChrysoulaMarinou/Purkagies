{
 "cells": [
  {
   "cell_type": "markdown",
   "id": "4e3c14be",
   "metadata": {},
   "source": [
    "Make a series of row in the df int/float"
   ]
  },
  {
   "cell_type": "raw",
   "id": "be93786e",
   "metadata": {},
   "source": [
    "df.iloc[:, 15:] = df.iloc[:, 15:].astype(float)"
   ]
  },
  {
   "cell_type": "markdown",
   "id": "4a87134f",
   "metadata": {},
   "source": [
    "Extracting year from a date string with regex"
   ]
  },
  {
   "cell_type": "raw",
   "id": "89862748",
   "metadata": {},
   "source": [
    "df['year']= df['date'].str.extract(r'(\\d{4})')"
   ]
  },
  {
   "cell_type": "markdown",
   "id": "69022255",
   "metadata": {},
   "source": [
    "or...."
   ]
  },
  {
   "cell_type": "raw",
   "id": "d1f74b9d",
   "metadata": {},
   "source": [
    "ff['Year'] = pd.to_datetime(ff['Ημερ/νία Έναρξης']).dt.year"
   ]
  }
 ],
 "metadata": {
  "kernelspec": {
   "display_name": "Python 3 (ipykernel)",
   "language": "python",
   "name": "python3"
  },
  "language_info": {
   "codemirror_mode": {
    "name": "ipython",
    "version": 3
   },
   "file_extension": ".py",
   "mimetype": "text/x-python",
   "name": "python",
   "nbconvert_exporter": "python",
   "pygments_lexer": "ipython3",
   "version": "3.11.2"
  }
 },
 "nbformat": 4,
 "nbformat_minor": 5
}
