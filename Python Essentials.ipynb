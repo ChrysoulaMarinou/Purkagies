{
 "cells": [
  {
   "cell_type": "markdown",
   "id": "40166585",
   "metadata": {},
   "source": [
    "Make a series of row in the df int/float"
   ]
  },
  {
   "cell_type": "raw",
   "id": "4b132822",
   "metadata": {},
   "source": [
    "df.iloc[:, 15:] = df.iloc[:, 15:].astype(float)"
   ]
  },
  {
   "cell_type": "markdown",
   "id": "1855213d",
   "metadata": {},
   "source": [
    "Extracting year from a date string with regex"
   ]
  },
  {
   "cell_type": "raw",
   "id": "97fa61d8",
   "metadata": {},
   "source": [
    "df['year']= df['date'].str.extract(r'(\\d{4})')"
   ]
  },
  {
   "cell_type": "markdown",
   "id": "649db934",
   "metadata": {},
   "source": [
    "or...."
   ]
  },
  {
   "cell_type": "raw",
   "id": "04e694b0",
   "metadata": {},
   "source": [
    "ff['Year'] = pd.to_datetime(ff['Ημερ/νία Έναρξης']).dt.year"
   ]
  }
 ],
 "metadata": {
  "kernelspec": {
   "display_name": "Python 3 (ipykernel)",
   "language": "python",
   "name": "python3"
  },
  "language_info": {
   "codemirror_mode": {
    "name": "ipython",
    "version": 3
   },
   "file_extension": ".py",
   "mimetype": "text/x-python",
   "name": "python",
   "nbconvert_exporter": "python",
   "pygments_lexer": "ipython3",
   "version": "3.11.2"
  }
 },
 "nbformat": 4,
 "nbformat_minor": 5
}
