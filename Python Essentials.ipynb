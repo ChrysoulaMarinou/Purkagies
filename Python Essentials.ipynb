{
 "cells": [
  {
   "cell_type": "markdown",
   "id": "40166585",
   "metadata": {},
   "source": [
    "Make a series of row in the df int/float"
   ]
  },
  {
   "cell_type": "raw",
   "id": "4b132822",
   "metadata": {},
   "source": [
    "df.iloc[:, 15:] = df.iloc[:, 15:].astype(float)"
   ]
  },
  {
   "cell_type": "markdown",
   "id": "1855213d",
   "metadata": {},
   "source": [
    "Extracting year from a date string with regex"
   ]
  },
  {
   "cell_type": "raw",
   "id": "97fa61d8",
   "metadata": {},
   "source": [
    "df['year']= df['date'].str.extract(r'(\\d{4})')"
   ]
  },
  {
   "cell_type": "markdown",
   "id": "649db934",
   "metadata": {},
   "source": [
    "or...."
   ]
  },
  {
   "cell_type": "raw",
   "id": "04e694b0",
   "metadata": {},
   "source": [
    "ff['Year'] = pd.to_datetime(ff['Ημερ/νία Έναρξης']).dt.year"
   ]
  },
  {
   "cell_type": "markdown",
   "id": "36a2dede",
   "metadata": {},
   "source": [
    "# Inspection"
   ]
  },
  {
   "cell_type": "markdown",
   "id": "25bdbb64",
   "metadata": {},
   "source": [
    "Print multiple rows of a specific column in a data frame from a specific row to another without typing each one"
   ]
  },
  {
   "cell_type": "raw",
   "id": "b5b42d5b",
   "metadata": {},
   "source": [
    "print(df.loc[1:1720,'column1'])"
   ]
  },
  {
   "cell_type": "markdown",
   "id": "e0367507",
   "metadata": {},
   "source": [
    "Find English characters"
   ]
  },
  {
   "cell_type": "code",
   "execution_count": 1,
   "id": "308d649e",
   "metadata": {},
   "outputs": [
    {
     "name": "stdout",
     "output_type": "stream",
     "text": [
      "True\n",
      "False\n"
     ]
    }
   ],
   "source": [
    "def isEnglish(s):\n",
    "  return s.isascii()\n",
    "\n",
    "print(isEnglish(\"Test\"))\n",
    "print(isEnglish(\"ΑΛΙΑΡΤΟΥ\"))\n"
   ]
  },
  {
   "cell_type": "markdown",
   "id": "c59ad7b9",
   "metadata": {},
   "source": [
    "## For merge()"
   ]
  },
  {
   "cell_type": "markdown",
   "id": "1b1298fe",
   "metadata": {},
   "source": [
    "In merge(), you can specify the names of the key columns in the left and right DataFrames separately using the left_on and right_on parameters, if the columns you want to merge have different names."
   ]
  },
  {
   "cell_type": "raw",
   "id": "9b7c28da",
   "metadata": {},
   "source": [
    "merge(left_on='column1', right_on='column2')"
   ]
  },
  {
   "cell_type": "markdown",
   "id": "535f0967",
   "metadata": {},
   "source": [
    "For keeping all the rows when merging a df and there are some that don't megre correctly"
   ]
  },
  {
   "cell_type": "raw",
   "id": "3eaa8ecd",
   "metadata": {},
   "source": [
    "how='outer'"
   ]
  },
  {
   "cell_type": "markdown",
   "id": "a05b42d9",
   "metadata": {},
   "source": [
    "# Cleaning "
   ]
  },
  {
   "cell_type": "markdown",
   "id": "a70118cc",
   "metadata": {},
   "source": [
    "For cleaning names in a df"
   ]
  },
  {
   "cell_type": "raw",
   "id": "8b2456da",
   "metadata": {},
   "source": [
    "def strip_rows(data):\n",
    "    return data.replace(r'(ΔΗΜΟΣ?\\s+)','', regex=True)\\\n",
    "                .replace(r'( - )','-', regex=True)\\\n",
    "                .replace(r'(\\s{2,})',' ', regex=True)\\\n",
    "                .replace(r'(^\\s*)','', regex=True)\\\n",
    "                .replace(r'(^A)','Α', regex=True)"
   ]
  },
  {
   "cell_type": "markdown",
   "id": "d593ff90",
   "metadata": {},
   "source": [
    "For getting rid of wrong spacing in names"
   ]
  },
  {
   "cell_type": "raw",
   "id": "2b52fbbf",
   "metadata": {},
   "source": [
    "skipinitialspace = True"
   ]
  },
  {
   "cell_type": "markdown",
   "id": "59947301",
   "metadata": {},
   "source": [
    "To get rid of the rows with only nan values"
   ]
  },
  {
   "cell_type": "raw",
   "id": "5175e926",
   "metadata": {},
   "source": [
    "na_filter=False"
   ]
  },
  {
   "cell_type": "code",
   "execution_count": null,
   "id": "1fb4eefe",
   "metadata": {},
   "outputs": [],
   "source": []
  },
  {
   "cell_type": "code",
   "execution_count": null,
   "id": "994bdc37",
   "metadata": {},
   "outputs": [],
   "source": [
    "master[master['municipality'].str.contains('ΦΙΛΑΔΕΛΦΕΙΑΣ', na=False)]"
   ]
  },
  {
   "cell_type": "code",
   "execution_count": null,
   "id": "eebe5ee2",
   "metadata": {},
   "outputs": [],
   "source": []
  }
 ],
 "metadata": {
  "kernelspec": {
   "display_name": "Python 3 (ipykernel)",
   "language": "python",
   "name": "python3"
  },
  "language_info": {
   "codemirror_mode": {
    "name": "ipython",
    "version": 3
   },
   "file_extension": ".py",
   "mimetype": "text/x-python",
   "name": "python",
   "nbconvert_exporter": "python",
   "pygments_lexer": "ipython3",
   "version": "3.11.2"
  }
 },
 "nbformat": 4,
 "nbformat_minor": 5
}
