{
 "cells": [
  {
   "cell_type": "code",
   "execution_count": 1,
   "id": "3825f5ac",
   "metadata": {},
   "outputs": [],
   "source": [
    "import glob\n",
    "import zipfile "
   ]
  },
  {
   "cell_type": "code",
   "execution_count": 2,
   "id": "21905980",
   "metadata": {},
   "outputs": [
    {
     "data": {
      "text/plain": [
       "[]"
      ]
     },
     "execution_count": 2,
     "metadata": {},
     "output_type": "execute_result"
    }
   ],
   "source": [
    "files = glob.glob('data/*.zip')\n",
    "files\n"
   ]
  },
  {
   "cell_type": "code",
   "execution_count": 6,
   "id": "9b65eb7e",
   "metadata": {},
   "outputs": [
    {
     "name": "stdout",
     "output_type": "stream",
     "text": [
      "File Name                                             Modified             Size\n",
      "data-merge.ipynb                               2023-04-25 19:43:10     10583775\n",
      "__MACOSX/._data-merge.ipynb                    2023-04-25 19:43:10         1783\n"
     ]
    }
   ],
   "source": [
    "with zipfile.ZipFile('data-merge.ipynb.zip', 'r') as zip:\n",
    "    zip.printdir()\n"
   ]
  },
  {
   "cell_type": "code",
   "execution_count": 7,
   "id": "4531bb3c",
   "metadata": {},
   "outputs": [],
   "source": [
    "with zipfile.ZipFile('data-merge.ipynb.zip', 'r') as zip:\n",
    "    zip.extract('data-merge.ipynb')"
   ]
  },
  {
   "cell_type": "code",
   "execution_count": null,
   "id": "7e2ddf2a",
   "metadata": {},
   "outputs": [],
   "source": []
  }
 ],
 "metadata": {
  "kernelspec": {
   "display_name": "Python 3 (ipykernel)",
   "language": "python",
   "name": "python3"
  },
  "language_info": {
   "codemirror_mode": {
    "name": "ipython",
    "version": 3
   },
   "file_extension": ".py",
   "mimetype": "text/x-python",
   "name": "python",
   "nbconvert_exporter": "python",
   "pygments_lexer": "ipython3",
   "version": "3.11.2"
  }
 },
 "nbformat": 4,
 "nbformat_minor": 5
}
