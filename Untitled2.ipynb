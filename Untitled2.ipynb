{
 "cells": [
  {
   "cell_type": "code",
   "execution_count": null,
   "id": "040183cf",
   "metadata": {},
   "outputs": [],
   "source": [
    "fr_df[fr_df.dimos.str.contains('ΣΑΜΟΥ', na=False)]"
   ]
  },
  {
   "cell_type": "code",
   "execution_count": null,
   "id": "52859800",
   "metadata": {},
   "outputs": [],
   "source": [
    "desired_samos = '(^ΣΑΜΟΥ|[Α-Ω]+\\s+ΣΑΜΟΥ)'"
   ]
  },
  {
   "cell_type": "code",
   "execution_count": null,
   "id": "d0ac6b70",
   "metadata": {},
   "outputs": [],
   "source": [
    "fr_df[fr_df.municipality_pay.str.contains(desired_samos, regex=True, na=False)]"
   ]
  },
  {
   "cell_type": "code",
   "execution_count": null,
   "id": "d1bdfc7a",
   "metadata": {},
   "outputs": [],
   "source": [
    "fr_df[fr_df.municipality_pay.str.contains('ΣΑΜΟΥ', na=False)]"
   ]
  },
  {
   "cell_type": "code",
   "execution_count": null,
   "id": "99ad9622",
   "metadata": {},
   "outputs": [],
   "source": [
    "def clear_on_date(data, date, name, name):\n",
    "    "
   ]
  },
  {
   "cell_type": "code",
   "execution_count": null,
   "id": "5aa0deb1",
   "metadata": {},
   "outputs": [],
   "source": []
  },
  {
   "cell_type": "code",
   "execution_count": null,
   "id": "f515b18e",
   "metadata": {},
   "outputs": [],
   "source": []
  },
  {
   "cell_type": "code",
   "execution_count": null,
   "id": "5dec7deb",
   "metadata": {},
   "outputs": [],
   "source": [
    "lst = master_df.municipality.unique().tolist()"
   ]
  },
  {
   "cell_type": "code",
   "execution_count": null,
   "id": "02b653e3",
   "metadata": {},
   "outputs": [],
   "source": [
    "for item in lst:\n",
    "    value = difflib.get_close_matches(item, lst, n=2, cutoff=0.70)\n",
    "    if len(value)>1:\n",
    "        print(f\"{item} -> {value}\")"
   ]
  },
  {
   "cell_type": "code",
   "execution_count": null,
   "id": "731c6eb3",
   "metadata": {},
   "outputs": [],
   "source": []
  },
  {
   "cell_type": "code",
   "execution_count": null,
   "id": "3f316e49",
   "metadata": {},
   "outputs": [],
   "source": []
  },
  {
   "cell_type": "code",
   "execution_count": null,
   "id": "0a10e49c",
   "metadata": {},
   "outputs": [],
   "source": []
  }
 ],
 "metadata": {
  "kernelspec": {
   "display_name": "Python 3 (ipykernel)",
   "language": "python",
   "name": "python3"
  },
  "language_info": {
   "codemirror_mode": {
    "name": "ipython",
    "version": 3
   },
   "file_extension": ".py",
   "mimetype": "text/x-python",
   "name": "python",
   "nbconvert_exporter": "python",
   "pygments_lexer": "ipython3",
   "version": "3.11.2"
  }
 },
 "nbformat": 4,
 "nbformat_minor": 5
}
