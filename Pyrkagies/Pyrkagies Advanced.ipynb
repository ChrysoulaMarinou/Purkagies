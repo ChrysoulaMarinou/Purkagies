{
 "cells": [
  {
   "cell_type": "code",
   "execution_count": 1,
   "id": "49e3bf2b",
   "metadata": {},
   "outputs": [],
   "source": [
    "import pandas as pd\n",
    "import os\n",
    "pd.set_option('display.max_rows', 10)\n",
    "pd.__version__"
   ]
  },
  {
   "cell_type": "code",
   "execution_count": 2,
   "id": "9236a7d7",
   "metadata": {},
   "outputs": [],
   "source": [
    "def read_excel(filename):\n",
    "    try:\n",
    "        df = pd.read_excel(filename, header=1)\n",
    "    except Exception as e:\n",
    "        print(f\"cannot read {filename}. Error: {e}\")\n",
    "    return df"
   ]
  },
  {
   "cell_type": "code",
   "execution_count": 3,
   "id": "7ee1480b",
   "metadata": {},
   "outputs": [],
   "source": [
    "def read_all_excels(path, selection):\n",
    "    ''' This function:\n",
    "     - reads all the data of forest fires\n",
    "     - concatenates them\n",
    "     - removes unwanted columns\n",
    "     - turns strings into numbers\n",
    "     '''\n",
    "#     this is where we'll save all the dataframes when we read them\n",
    "    list_of_dfs=[]\n",
    "#     lists the files of the path\n",
    "    files = os.listdir(path)\n",
    "#     filters the files we want to read\n",
    "    excel_files = [f for f in files if f.endswith('.xlsx')]\n",
    "#     loop through the files\n",
    "    for file in excel_files:\n",
    "#          prints message for us to see the progress\n",
    "        print(f\"Reading file: {file}\")\n",
    "#          reads the each file\n",
    "        df=read_excel(f\"{path}/{file}\")\n",
    "#          turn strings into numbers (but keep the categorical strings into strings)\n",
    "#         df = df.apply(lambda x: pd.to_numeric(x.astype(str), errors='ignore'))\n",
    "        list_of_dfs.append(df)\n",
    "    forest_fires = pd.concat(list_of_dfs).reset_index(drop=True)\n",
    "    forest_fires = forest_fires[selection]\n",
    "    return forest_fires"
   ]
  },
  {
   "cell_type": "code",
   "execution_count": 4,
   "id": "539dd3de",
   "metadata": {},
   "outputs": [],
   "source": [
    "selected_columns=[ 'X-ENGAGE',\n",
    "                       'Y-ENGAGE',                 'Υπηρεσία',\n",
    "                          'Νομός',         'Ημερ/νία Έναρξης',\n",
    "                    'Ώρα Έναρξης',      'Ημερ/νία Κατασβεσης',\n",
    "                 'Ώρα Κατάσβεσης',                'Δασαρχείο',\n",
    "                          'Δήμος',                  'Περιοχή',\n",
    "                      'Διεύθυνση',                     'Δάση',\n",
    "                  'Δασική Έκταση',                     'Άλση',\n",
    "              'Χορτ/κές Εκτάσεις',         'Καλάμια - Βάλτοι',\n",
    "             'Γεωργικές Εκτάσεις', 'Υπολλείματα Καλλιεργειών',\n",
    "                 'Σκουπι-δότοποι']"
   ]
  },
  {
   "cell_type": "code",
   "execution_count": 5,
   "id": "bf87bcea",
   "metadata": {},
   "outputs": [],
   "source": [
    "pwd"
   ]
  },
  {
   "cell_type": "code",
   "execution_count": 6,
   "id": "590b8634",
   "metadata": {},
   "outputs": [],
   "source": [
    "read_all_excels('C:\\\\Users\\\\c.marinou\\\\Documents\\\\GitHub\\\\Purkagies', selected_columns)"
   ]
  },
  {
   "cell_type": "code",
   "execution_count": null,
   "id": "ef9b8cb6",
   "metadata": {},
   "outputs": [],
   "source": [
    "re"
   ]
  }
 ],
 "metadata": {
  "kernelspec": {
   "display_name": "Python 3 (ipykernel)",
   "language": "python",
   "name": "python3"
  },
  "language_info": {
   "codemirror_mode": {
    "name": "ipython",
    "version": 3
   },
   "file_extension": ".py",
   "mimetype": "text/x-python",
   "name": "python",
   "nbconvert_exporter": "python",
   "pygments_lexer": "ipython3",
   "version": "3.11.2"
  }
 },
 "nbformat": 4,
 "nbformat_minor": 5
}
