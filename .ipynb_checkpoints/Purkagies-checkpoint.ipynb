{
 "cells": [
  {
   "cell_type": "code",
   "execution_count": null,
   "id": "a7767fba",
   "metadata": {
    "scrolled": true
   },
   "outputs": [],
   "source": [
    "import pandas as pd\n",
    "import os\n",
    "\n",
    "pd.__version__"
   ]
  },
  {
   "cell_type": "code",
   "execution_count": null,
   "id": "b2fbcf8f",
   "metadata": {},
   "outputs": [],
   "source": [
    "# path= 'DELL/Documents/Purkagies_trial'"
   ]
  },
  {
   "cell_type": "code",
   "execution_count": null,
   "id": "4ffda54c",
   "metadata": {
    "scrolled": true
   },
   "outputs": [],
   "source": [
    "# find in the folder all the .xlsx files\n",
    "files = os.listdir()\n",
    "excel_files = [f for f in files if f.endswith('.xlsx')]"
   ]
  },
  {
   "cell_type": "code",
   "execution_count": null,
   "id": "2a13ba0e",
   "metadata": {},
   "outputs": [],
   "source": [
    "# print files\n",
    "excel_files"
   ]
  },
  {
   "cell_type": "code",
   "execution_count": null,
   "id": "7ae72cca",
   "metadata": {
    "scrolled": true
   },
   "outputs": [],
   "source": [
    "# the .xlsx files are written in 2 different forms that change with the decade \n",
    "# create a list containing the files of the '10s and a second one containing the files of the '20s\n",
    "files_10=[]\n",
    "files_20=[]\n",
    "\n",
    "for f in excel_files:\n",
    "    if '201' in f:\n",
    "        files_10.append(pd.read_excel(f))\n",
    "    else:\n",
    "        files_20.append(pd.read_excel(f))\n",
    "    \n",
    "# fires_all= pd.concat(f)\n"
   ]
  },
  {
   "cell_type": "code",
   "execution_count": null,
   "id": "83f28002",
   "metadata": {},
   "outputs": [],
   "source": [
    "# create 2 different dataframes with all the files concated and reset index\n",
    "fires_10= pd.concat(files_10).reset_index()\n",
    "fires_20= pd.concat(files_20).reset_index()"
   ]
  },
  {
   "cell_type": "code",
   "execution_count": null,
   "id": "cf7ff8a7",
   "metadata": {},
   "outputs": [],
   "source": [
    "fires_10"
   ]
  },
  {
   "cell_type": "code",
   "execution_count": null,
   "id": "839b6931",
   "metadata": {},
   "outputs": [],
   "source": [
    "# rename columns\n",
    "fires_10.columns = fires_10.iloc[0]\n",
    "fires_10.drop(0)\n",
    "\n",
    "# drop column 0\n",
    "fires_10.drop(fires_10.columns[[0]], axis=1)"
   ]
  },
  {
   "cell_type": "code",
   "execution_count": null,
   "id": "9d9ff8b1",
   "metadata": {},
   "outputs": [],
   "source": [
    "# drop column 0\n",
    "fires_10.drop(fires_10.columns[[0]], axis=1)"
   ]
  },
  {
   "cell_type": "code",
   "execution_count": null,
   "id": "1c04fe98",
   "metadata": {},
   "outputs": [],
   "source": []
  },
  {
   "cell_type": "code",
   "execution_count": null,
   "id": "6afc3b4f",
   "metadata": {},
   "outputs": [],
   "source": []
  },
  {
   "cell_type": "code",
   "execution_count": null,
   "id": "28bd0388",
   "metadata": {},
   "outputs": [],
   "source": []
  },
  {
   "cell_type": "code",
   "execution_count": null,
   "id": "22c6dadf",
   "metadata": {},
   "outputs": [],
   "source": [
    "fires_20"
   ]
  },
  {
   "cell_type": "code",
   "execution_count": null,
   "id": "c33818ee",
   "metadata": {},
   "outputs": [],
   "source": [
    "fires_all.columns = fires_all.iloc[0]\n",
    "fires_all"
   ]
  },
  {
   "cell_type": "code",
   "execution_count": null,
   "id": "9474659f",
   "metadata": {},
   "outputs": [],
   "source": [
    "fires_all= fires_all.drop(0)\n",
    "fires_all"
   ]
  },
  {
   "cell_type": "code",
   "execution_count": null,
   "id": "e1600666",
   "metadata": {},
   "outputs": [],
   "source": [
    "fires_all.shape"
   ]
  },
  {
   "cell_type": "code",
   "execution_count": null,
   "id": "386ab68a",
   "metadata": {},
   "outputs": [],
   "source": [
    "fires_all.columns"
   ]
  },
  {
   "cell_type": "code",
   "execution_count": null,
   "id": "ffc5520e",
   "metadata": {},
   "outputs": [],
   "source": [
    "fires_all.dtypes"
   ]
  },
  {
   "cell_type": "code",
   "execution_count": null,
   "id": "a6ef2a02",
   "metadata": {},
   "outputs": [],
   "source": [
    "fires_all.head()"
   ]
  },
  {
   "cell_type": "code",
   "execution_count": null,
   "id": "c2c4c266",
   "metadata": {},
   "outputs": [],
   "source": [
    "fires_all.tail()"
   ]
  },
  {
   "cell_type": "code",
   "execution_count": null,
   "id": "bf7711d6",
   "metadata": {},
   "outputs": [],
   "source": []
  },
  {
   "cell_type": "code",
   "execution_count": null,
   "id": "b877b206",
   "metadata": {},
   "outputs": [],
   "source": [
    "list_dhmos = df17[\"Δήμος\"].tolist()\n",
    "\n"
   ]
  },
  {
   "cell_type": "code",
   "execution_count": null,
   "id": "29cf3285",
   "metadata": {},
   "outputs": [],
   "source": []
  },
  {
   "cell_type": "code",
   "execution_count": null,
   "id": "d1ea6972",
   "metadata": {},
   "outputs": [],
   "source": []
  }
 ],
 "metadata": {
  "kernelspec": {
   "display_name": "Python 3 (ipykernel)",
   "language": "python",
   "name": "python3"
  },
  "language_info": {
   "codemirror_mode": {
    "name": "ipython",
    "version": 3
   },
   "file_extension": ".py",
   "mimetype": "text/x-python",
   "name": "python",
   "nbconvert_exporter": "python",
   "pygments_lexer": "ipython3",
   "version": "3.11.2"
  }
 },
 "nbformat": 4,
 "nbformat_minor": 5
}
