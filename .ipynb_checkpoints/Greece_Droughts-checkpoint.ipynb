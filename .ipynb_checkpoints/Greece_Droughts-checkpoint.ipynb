{
 "cells": [
  {
   "cell_type": "code",
   "execution_count": 1,
   "id": "95227c94",
   "metadata": {},
   "outputs": [],
   "source": [
    "import pandas as pd\n",
    "import os\n",
    "pd.set_option('display.max_rows', 200)\n",
    "pd.set_option('display.max_columns', 60)\n",
    "pd.__version__\n",
    "\n",
    "import matplotlib.pyplot as plt\n",
    "\n",
    "#setups\n",
    "%matplotlib inline"
   ]
  },
  {
   "cell_type": "code",
   "execution_count": 2,
   "id": "f706f15d",
   "metadata": {},
   "outputs": [],
   "source": [
    "def read_csv(filename):\n",
    "    try:\n",
    "        df = pd.read_csv(filename, header=1)\n",
    "    except Exception as e:\n",
    "        df='chrysoula'\n",
    "        \n",
    "        print(f\"cannot read {filename}. Error: {e}\")\n",
    "    return df"
   ]
  },
  {
   "cell_type": "code",
   "execution_count": 6,
   "id": "a5f80d07",
   "metadata": {},
   "outputs": [],
   "source": [
    "def read_all_csv(path):\n",
    "    ''' This function:\n",
    "     - reads all the data of forest fires\n",
    "     - concatenates them\n",
    "     - removes unwanted columns\n",
    "     - turns strings into numbers\n",
    "     '''\n",
    "#     this is where we'll save all the dataframes when we read them\n",
    "    list_of_dfs=[]\n",
    "#     lists the files of the path\n",
    "    files = os.listdir(path)\n",
    "#     filters the files we want to read\n",
    "    csv_files =[f for f in files if f.endswith('.csv')]\n",
    "#     loop through the files\n",
    "    for file in csv_files:\n",
    "#          prints message for us to see the progress\n",
    "#         print(f\"Reading file: {file}\")\n",
    "#          reads the each file\n",
    "        df=pd.read_csv(f\"{path}/{file}\")\n",
    "#          turn strings into numbers (but keep the categorical strings into strings)\n",
    "#         df = df.apply(lambda x: pd.to_numeric(x.astype(str), errors='ignore'))\n",
    "        list_of_dfs.append(df)\n",
    "        greece = pd.concat(list_of_dfs).reset_index(drop=True)\n",
    "#        attica = attica[selection] \n",
    "    \n",
    "    return greece"
   ]
  },
  {
   "cell_type": "code",
   "execution_count": 9,
   "id": "f5c9da26",
   "metadata": {},
   "outputs": [],
   "source": [
    "df=read_all_csv('C:\\\\Users\\\\c.marinou\\\\Documents\\\\GitHub\\\\Purkagies\\\\greece')"
   ]
  },
  {
   "cell_type": "code",
   "execution_count": 10,
   "id": "ff013231",
   "metadata": {},
   "outputs": [],
   "source": [
    "df['DATA']= df['DATA'].astype(str)"
   ]
  },
  {
   "cell_type": "code",
   "execution_count": 11,
   "id": "b6fd2100",
   "metadata": {},
   "outputs": [
    {
     "name": "stderr",
     "output_type": "stream",
     "text": [
      "C:\\Users\\c.marinou\\AppData\\Local\\Temp\\ipykernel_14064\\4225941270.py:1: UserWarning: Could not infer format, so each element will be parsed individually, falling back to `dateutil`. To ensure parsing is consistent and as-expected, please specify a format.\n",
      "  df['date'] = pd.to_datetime(df['DATA'])\n"
     ]
    }
   ],
   "source": [
    "df['date'] = pd.to_datetime(df['DATA'])"
   ]
  },
  {
   "cell_type": "code",
   "execution_count": null,
   "id": "c0dddf21",
   "metadata": {},
   "outputs": [],
   "source": [
    "df['SPEI_48'].plot(kind='bar', x='year', figsize=(26,6))"
   ]
  },
  {
   "cell_type": "code",
   "execution_count": null,
   "id": "f6f9fd2e",
   "metadata": {},
   "outputs": [],
   "source": []
  },
  {
   "cell_type": "code",
   "execution_count": null,
   "id": "886e015d",
   "metadata": {},
   "outputs": [],
   "source": [
    "df['year'] = df['DATA'].str.extract(r'(\\d{4})')"
   ]
  },
  {
   "cell_type": "code",
   "execution_count": null,
   "id": "7119e345",
   "metadata": {},
   "outputs": [],
   "source": [
    "df_group = df.drop('DATA',  axis=1)"
   ]
  },
  {
   "cell_type": "code",
   "execution_count": null,
   "id": "d9540263",
   "metadata": {},
   "outputs": [],
   "source": [
    "# df_group_med= df_group.groupby('year').median()\n",
    "# df_group_med"
   ]
  },
  {
   "cell_type": "code",
   "execution_count": null,
   "id": "60605a52",
   "metadata": {},
   "outputs": [],
   "source": [
    "df_group_mean= df_group.groupby('year').median()\n",
    "df_group_mean"
   ]
  },
  {
   "cell_type": "code",
   "execution_count": null,
   "id": "481514e8",
   "metadata": {},
   "outputs": [],
   "source": [
    "df_group_med= df_group_med.reset_index()\n",
    "df_group_med"
   ]
  },
  {
   "cell_type": "code",
   "execution_count": null,
   "id": "c954ba1d",
   "metadata": {},
   "outputs": [],
   "source": [
    "df_group_mean= df_group_mean.reset_index()\n",
    "df_group_mean"
   ]
  },
  {
   "cell_type": "code",
   "execution_count": null,
   "id": "1f925ec2",
   "metadata": {
    "scrolled": true
   },
   "outputs": [],
   "source": [
    "sp48 = df_group.plot(kind='bar',x='year',y='SPEI_48',figsize=(20,5),rot=45, color='dodgerblue', alpha=.8, legend=True)\n",
    "\n",
    "sp48.set_title('Greece Drought Events 1950-2023', fontsize=15, fontweight='bold')\n",
    "#set a subtitle\n",
    "plt.suptitle('48-month median of SPEI', fontsize=11, color='dimgray', fontweight='bold')"
   ]
  },
  {
   "cell_type": "code",
   "execution_count": null,
   "id": "6b056bc0",
   "metadata": {},
   "outputs": [],
   "source": [
    "sp48 = df_group_mean.plot(kind='bar',x='year',y='SPEI_48',figsize=(20,5),rot=45, color='dodgerblue', alpha=.8, legend=True)\n",
    "\n",
    "sp48.set_title('Greece Drought Events 1950-2023', fontsize=15, fontweight='bold')\n",
    "#set a subtitle\n",
    "plt.suptitle('48-month median of SPEI', fontsize=11, color='dimgray', fontweight='bold')"
   ]
  },
  {
   "cell_type": "code",
   "execution_count": null,
   "id": "4b44036e",
   "metadata": {},
   "outputs": [],
   "source": []
  },
  {
   "cell_type": "code",
   "execution_count": null,
   "id": "d1d95ab7",
   "metadata": {},
   "outputs": [],
   "source": []
  },
  {
   "cell_type": "code",
   "execution_count": null,
   "id": "cd1a42b7",
   "metadata": {},
   "outputs": [],
   "source": []
  }
 ],
 "metadata": {
  "kernelspec": {
   "display_name": "Python 3 (ipykernel)",
   "language": "python",
   "name": "python3"
  },
  "language_info": {
   "codemirror_mode": {
    "name": "ipython",
    "version": 3
   },
   "file_extension": ".py",
   "mimetype": "text/x-python",
   "name": "python",
   "nbconvert_exporter": "python",
   "pygments_lexer": "ipython3",
   "version": "3.11.2"
  }
 },
 "nbformat": 4,
 "nbformat_minor": 5
}
